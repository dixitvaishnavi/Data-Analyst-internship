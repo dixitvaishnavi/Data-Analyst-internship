{
  "nbformat": 4,
  "nbformat_minor": 0,
  "metadata": {
    "colab": {
      "provenance": [],
      "authorship_tag": "ABX9TyM7ZQj8PEgLmgWxg37sQG+C",
      "include_colab_link": true
    },
    "kernelspec": {
      "name": "python3",
      "display_name": "Python 3"
    },
    "language_info": {
      "name": "python"
    }
  },
  "cells": [
    {
      "cell_type": "markdown",
      "metadata": {
        "id": "view-in-github",
        "colab_type": "text"
      },
      "source": [
        "<a href=\"https://colab.research.google.com/github/dixitvaishnavi/Data-Analyst-internship/blob/main/Basic_Structure.ipynb\" target=\"_parent\"><img src=\"https://colab.research.google.com/assets/colab-badge.svg\" alt=\"Open In Colab\"/></a>"
      ]
    },
    {
      "cell_type": "code",
      "execution_count": 1,
      "metadata": {
        "colab": {
          "base_uri": "https://localhost:8080/"
        },
        "id": "4NotopJJI4Ua",
        "outputId": "0a6246c7-07c0-4491-bb0e-b5e23a356a1a"
      },
      "outputs": [
        {
          "output_type": "stream",
          "name": "stdout",
          "text": [
            "lucknow uttar pradesh \n"
          ]
        }
      ],
      "source": [
        "address='lucknow uttar pradesh '\n",
        "print(address)"
      ]
    },
    {
      "cell_type": "code",
      "source": [
        "print('pune')"
      ],
      "metadata": {
        "colab": {
          "base_uri": "https://localhost:8080/"
        },
        "id": "D923U5mHJcRM",
        "outputId": "2b25c63c-c5fb-451d-a829-7c9311cd8591"
      },
      "execution_count": 2,
      "outputs": [
        {
          "output_type": "stream",
          "name": "stdout",
          "text": [
            "pune\n"
          ]
        }
      ]
    },
    {
      "cell_type": "code",
      "source": [],
      "metadata": {
        "id": "j3PptN2JJhbt"
      },
      "execution_count": null,
      "outputs": []
    }
  ]
}