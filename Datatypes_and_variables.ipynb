{
  "nbformat": 4,
  "nbformat_minor": 0,
  "metadata": {
    "colab": {
      "provenance": [],
      "authorship_tag": "ABX9TyNTsYnBlYJaj6jionfXvWbt",
      "include_colab_link": true
    },
    "kernelspec": {
      "name": "python3",
      "display_name": "Python 3"
    },
    "language_info": {
      "name": "python"
    }
  },
  "cells": [
    {
      "cell_type": "markdown",
      "metadata": {
        "id": "view-in-github",
        "colab_type": "text"
      },
      "source": [
        "<a href=\"https://colab.research.google.com/github/dixitvaishnavi/Data-Analyst-internship/blob/main/Datatypes_and_variables.ipynb\" target=\"_parent\"><img src=\"https://colab.research.google.com/assets/colab-badge.svg\" alt=\"Open In Colab\"/></a>"
      ]
    },
    {
      "cell_type": "code",
      "execution_count": 1,
      "metadata": {
        "colab": {
          "base_uri": "https://localhost:8080/"
        },
        "id": "xEkcoS-SJ70Z",
        "outputId": "26685aab-483a-4d32-c1dd-ae43e22187d8"
      },
      "outputs": [
        {
          "output_type": "stream",
          "name": "stdout",
          "text": [
            "vaishnavi\n",
            "23\n",
            "90.7\n"
          ]
        }
      ],
      "source": [
        "name='vaishnavi'\n",
        "age=23\n",
        "percent=90.7\n",
        "print(name)\n",
        "print(age)\n",
        "print(percent)"
      ]
    },
    {
      "cell_type": "code",
      "source": [
        "type(name)\n",
        "type(age)\n",
        "type(percent)"
      ],
      "metadata": {
        "colab": {
          "base_uri": "https://localhost:8080/"
        },
        "id": "0bmpo45EKUqi",
        "outputId": "96e7b2e5-f1f8-4e0a-810c-88f99a5aeb58"
      },
      "execution_count": 3,
      "outputs": [
        {
          "output_type": "execute_result",
          "data": {
            "text/plain": [
              "float"
            ]
          },
          "metadata": {},
          "execution_count": 3
        }
      ]
    },
    {
      "cell_type": "code",
      "source": [
        "profile = ['Mohit',25,5.8,60,'Engineer']         # List Method\n",
        "profile_2 = ('Disha',23,5.5,55,'Teacher')        # Tuple Method\n",
        "profile_3 = {'Name':'Sai','Role':'Cricket Analyst','age':22,'City':'Pune'} # Dictionary Method\n",
        "profile_4 = {'Sreedevi',55.6,'Teacher', 5.6}     # Set Method"
      ],
      "metadata": {
        "id": "A2b_ctiXKuca"
      },
      "execution_count": 4,
      "outputs": []
    },
    {
      "cell_type": "code",
      "source": [
        "print(profile)\n",
        "print(profile_2)\n",
        "print(profile_3)\n",
        "print(profile_4)"
      ],
      "metadata": {
        "colab": {
          "base_uri": "https://localhost:8080/"
        },
        "id": "t0EwFscyKy8v",
        "outputId": "73d650a9-8234-49ad-d49e-35c80cc76fef"
      },
      "execution_count": 5,
      "outputs": [
        {
          "output_type": "stream",
          "name": "stdout",
          "text": [
            "['Mohit', 25, 5.8, 60, 'Engineer']\n",
            "('Disha', 23, 5.5, 55, 'Teacher')\n",
            "{'Name': 'Sai', 'Role': 'Cricket Analyst', 'age': 22, 'City': 'Pune'}\n",
            "{'Sreedevi', 'Teacher', 5.6, 55.6}\n"
          ]
        }
      ]
    },
    {
      "cell_type": "code",
      "source": [
        "type(profile)"
      ],
      "metadata": {
        "colab": {
          "base_uri": "https://localhost:8080/"
        },
        "id": "cO5yJ3BpLQB0",
        "outputId": "d9f0ba5f-76bb-465d-e436-02a3177dc964"
      },
      "execution_count": 6,
      "outputs": [
        {
          "output_type": "execute_result",
          "data": {
            "text/plain": [
              "list"
            ]
          },
          "metadata": {},
          "execution_count": 6
        }
      ]
    },
    {
      "cell_type": "code",
      "source": [
        "type(profile_2)"
      ],
      "metadata": {
        "colab": {
          "base_uri": "https://localhost:8080/"
        },
        "id": "i8l7bg8qLQWs",
        "outputId": "fb13919d-d498-46f9-9712-48d53090f744"
      },
      "execution_count": 7,
      "outputs": [
        {
          "output_type": "execute_result",
          "data": {
            "text/plain": [
              "tuple"
            ]
          },
          "metadata": {},
          "execution_count": 7
        }
      ]
    },
    {
      "cell_type": "code",
      "source": [
        "type(profile_3)"
      ],
      "metadata": {
        "colab": {
          "base_uri": "https://localhost:8080/"
        },
        "id": "wVklWhyiLQkf",
        "outputId": "ef500508-2ff2-400f-eea3-3b5fc3270dc6"
      },
      "execution_count": 8,
      "outputs": [
        {
          "output_type": "execute_result",
          "data": {
            "text/plain": [
              "dict"
            ]
          },
          "metadata": {},
          "execution_count": 8
        }
      ]
    },
    {
      "cell_type": "code",
      "source": [
        "type(profile_4)"
      ],
      "metadata": {
        "colab": {
          "base_uri": "https://localhost:8080/"
        },
        "id": "VjxNZu81LcCm",
        "outputId": "7dbe9f42-5fa9-4487-bee2-5182ebdd8d76"
      },
      "execution_count": 9,
      "outputs": [
        {
          "output_type": "execute_result",
          "data": {
            "text/plain": [
              "set"
            ]
          },
          "metadata": {},
          "execution_count": 9
        }
      ]
    },
    {
      "cell_type": "code",
      "source": [
        "student1 = ('Rishika', 21, 90.2)    # Cannot modify it\n",
        "student2 = ['Rishika', 21, 90.2]    # Can modify it\n",
        "student3 = {'Rishika', 21, 90.2}    # Random Output"
      ],
      "metadata": {
        "id": "TNS6v9PmLhdM"
      },
      "execution_count": 10,
      "outputs": []
    },
    {
      "cell_type": "code",
      "source": [],
      "metadata": {
        "id": "nN7Z_R1ULhqC"
      },
      "execution_count": null,
      "outputs": []
    },
    {
      "cell_type": "code",
      "source": [],
      "metadata": {
        "id": "lysKUteyLh78"
      },
      "execution_count": null,
      "outputs": []
    }
  ]
}