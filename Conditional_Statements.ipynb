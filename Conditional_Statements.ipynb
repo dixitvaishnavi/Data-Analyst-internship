{
  "nbformat": 4,
  "nbformat_minor": 0,
  "metadata": {
    "colab": {
      "provenance": [],
      "authorship_tag": "ABX9TyPKl5Ww0x6HpO/vevJ0EJMm",
      "include_colab_link": true
    },
    "kernelspec": {
      "name": "python3",
      "display_name": "Python 3"
    },
    "language_info": {
      "name": "python"
    }
  },
  "cells": [
    {
      "cell_type": "markdown",
      "metadata": {
        "id": "view-in-github",
        "colab_type": "text"
      },
      "source": [
        "<a href=\"https://colab.research.google.com/github/dixitvaishnavi/Data-Analyst-internship/blob/main/Conditional_Statements.ipynb\" target=\"_parent\"><img src=\"https://colab.research.google.com/assets/colab-badge.svg\" alt=\"Open In Colab\"/></a>"
      ]
    },
    {
      "cell_type": "code",
      "execution_count": 1,
      "metadata": {
        "colab": {
          "base_uri": "https://localhost:8080/"
        },
        "id": "KFY_UDYcQGX9",
        "outputId": "54f87422-2963-45f9-c9ba-6427b60e5696"
      },
      "outputs": [
        {
          "output_type": "stream",
          "name": "stdout",
          "text": [
            "False\n"
          ]
        }
      ],
      "source": [
        "a,b = 45,20\n",
        "print(b>a)"
      ]
    },
    {
      "cell_type": "code",
      "source": [
        "if b>a:\n",
        "  print('entered')\n",
        "else:\n",
        "  print('not entered')"
      ],
      "metadata": {
        "colab": {
          "base_uri": "https://localhost:8080/"
        },
        "id": "JY0jKHNKQjKr",
        "outputId": "505b03fb-167d-48ef-be1c-9ae74c7881c4"
      },
      "execution_count": 2,
      "outputs": [
        {
          "output_type": "stream",
          "name": "stdout",
          "text": [
            "not entered\n"
          ]
        }
      ]
    },
    {
      "cell_type": "code",
      "source": [
        "aman , vinod =70,60\n",
        "if vinod<aman:\n",
        "  print('vinod scores greater than aman')\n",
        "elif aman==vinod:\n",
        "  print('both score equal')"
      ],
      "metadata": {
        "colab": {
          "base_uri": "https://localhost:8080/"
        },
        "id": "l7Yd6v1hQuhH",
        "outputId": "d04887f2-c320-4922-8cec-b74b6974c343"
      },
      "execution_count": 4,
      "outputs": [
        {
          "output_type": "stream",
          "name": "stdout",
          "text": [
            "vinod scores greater than aman\n"
          ]
        }
      ]
    },
    {
      "cell_type": "code",
      "source": [
        "marks = 40\n",
        "\n",
        "if marks > 35:\n",
        "  print(\"He is Pass\")\n",
        "  if marks > 60:\n",
        "    print(\"He is in Distinction\")\n",
        "  else:\n",
        "    print(\"He is in Mid Range\")\n",
        "else:\n",
        "  print('Sadly, He is Fail')"
      ],
      "metadata": {
        "colab": {
          "base_uri": "https://localhost:8080/"
        },
        "id": "sHgSZxzcR-xd",
        "outputId": "0d865217-00bc-4960-c89a-f80e09195af5"
      },
      "execution_count": 6,
      "outputs": [
        {
          "output_type": "stream",
          "name": "stdout",
          "text": [
            "He is Pass\n",
            "He is in Mid Range\n"
          ]
        }
      ]
    }
  ]
}