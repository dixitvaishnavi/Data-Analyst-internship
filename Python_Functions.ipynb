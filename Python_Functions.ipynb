{
  "nbformat": 4,
  "nbformat_minor": 0,
  "metadata": {
    "colab": {
      "provenance": [],
      "authorship_tag": "ABX9TyOZD/TTzNZTYIo+b7rTvpym",
      "include_colab_link": true
    },
    "kernelspec": {
      "name": "python3",
      "display_name": "Python 3"
    },
    "language_info": {
      "name": "python"
    }
  },
  "cells": [
    {
      "cell_type": "markdown",
      "metadata": {
        "id": "view-in-github",
        "colab_type": "text"
      },
      "source": [
        "<a href=\"https://colab.research.google.com/github/dixitvaishnavi/Data-Analyst-internship/blob/main/Python_Functions.ipynb\" target=\"_parent\"><img src=\"https://colab.research.google.com/assets/colab-badge.svg\" alt=\"Open In Colab\"/></a>"
      ]
    },
    {
      "cell_type": "code",
      "execution_count": 1,
      "metadata": {
        "id": "S0U3BobCJhQT"
      },
      "outputs": [],
      "source": [
        "def my_function():          # Function definiton\n",
        "  print('my name is vaishnavi')\n"
      ]
    },
    {
      "cell_type": "code",
      "source": [
        "my_function()   # Function calling"
      ],
      "metadata": {
        "colab": {
          "base_uri": "https://localhost:8080/"
        },
        "id": "ns2KwF7wPIuf",
        "outputId": "5ce21b15-43f6-4fff-f1f0-e6c64c63a43d"
      },
      "execution_count": 2,
      "outputs": [
        {
          "output_type": "stream",
          "name": "stdout",
          "text": [
            "my name is vaishnavi\n"
          ]
        }
      ]
    },
    {
      "cell_type": "code",
      "source": [
        "def my_ID(name):\n",
        "  print('ID001_'+name)\n",
        "\n",
        "my_ID('shreya')\n"
      ],
      "metadata": {
        "colab": {
          "base_uri": "https://localhost:8080/"
        },
        "id": "MunxJ5RfPI5z",
        "outputId": "8f3664bb-0ff9-4579-e3b4-2c0de339717a"
      },
      "execution_count": 3,
      "outputs": [
        {
          "output_type": "stream",
          "name": "stdout",
          "text": [
            "ID001_shreya\n"
          ]
        }
      ]
    },
    {
      "cell_type": "code",
      "source": [
        "def add(a,b,c):\n",
        "  return a+b+c\n",
        "\n",
        "add(2,3,4)"
      ],
      "metadata": {
        "colab": {
          "base_uri": "https://localhost:8080/"
        },
        "id": "440vZ9f1PI8M",
        "outputId": "570e33b0-bc51-49b4-9057-6d8fa10654bc"
      },
      "execution_count": 7,
      "outputs": [
        {
          "output_type": "execute_result",
          "data": {
            "text/plain": [
              "9"
            ]
          },
          "metadata": {},
          "execution_count": 7
        }
      ]
    },
    {
      "cell_type": "code",
      "source": [
        "def add(a,b,c):\n",
        "   print(a+b+c)\n",
        "\n",
        "add(3,4,5)"
      ],
      "metadata": {
        "colab": {
          "base_uri": "https://localhost:8080/"
        },
        "id": "m2IQQNJWPI-m",
        "outputId": "28e95269-899f-4a82-ee11-66c50c181b58"
      },
      "execution_count": 8,
      "outputs": [
        {
          "output_type": "stream",
          "name": "stdout",
          "text": [
            "12\n"
          ]
        }
      ]
    },
    {
      "cell_type": "code",
      "source": [
        "add = lambda a,b,c: print(a+b+c)     #Lambda Function\n",
        "add(2,3,4)"
      ],
      "metadata": {
        "colab": {
          "base_uri": "https://localhost:8080/"
        },
        "id": "_iA9Q9XDPJA-",
        "outputId": "a071e298-7e06-4c50-f2b0-c936c7660bd7"
      },
      "execution_count": 9,
      "outputs": [
        {
          "output_type": "stream",
          "name": "stdout",
          "text": [
            "9\n"
          ]
        }
      ]
    },
    {
      "cell_type": "code",
      "source": [
        "def my_function():          # Function definiton\n",
        "  return ('my name is vaishnavi')\n",
        "\n",
        "my_function()"
      ],
      "metadata": {
        "colab": {
          "base_uri": "https://localhost:8080/",
          "height": 36
        },
        "id": "_OBNqhFxPJEg",
        "outputId": "3dad6f6d-a16c-4c0c-a570-8c43c89cad80"
      },
      "execution_count": 10,
      "outputs": [
        {
          "output_type": "execute_result",
          "data": {
            "text/plain": [
              "'my name is vaishnavi'"
            ],
            "application/vnd.google.colaboratory.intrinsic+json": {
              "type": "string"
            }
          },
          "metadata": {},
          "execution_count": 10
        }
      ]
    },
    {
      "cell_type": "code",
      "source": [
        "num= [1, 2, 3, 4 ,5]\n",
        "\n",
        "def sq(n):\n",
        "  return n*n\n",
        "\n",
        "square=map(sq,num)\n",
        "print(list(square))"
      ],
      "metadata": {
        "colab": {
          "base_uri": "https://localhost:8080/"
        },
        "id": "F3gmwed_QYBm",
        "outputId": "3e81e0fb-8bab-43d6-bbd4-8f1a4603203d"
      },
      "execution_count": 12,
      "outputs": [
        {
          "output_type": "stream",
          "name": "stdout",
          "text": [
            "[1, 4, 9, 16, 25]\n"
          ]
        }
      ]
    },
    {
      "cell_type": "code",
      "source": [
        "num = [1, 2, 3, 4, 5]\n",
        "name=['rakesh','rajesh','ramesh','ratnesh','rajnesh']\n",
        "\n",
        "mapped=zip(num,name)\n",
        "print(list(mapped))"
      ],
      "metadata": {
        "colab": {
          "base_uri": "https://localhost:8080/"
        },
        "id": "vXa2S3j_QYFF",
        "outputId": "b9e78289-18bb-4a8a-ba35-b926c3f85634"
      },
      "execution_count": 13,
      "outputs": [
        {
          "output_type": "stream",
          "name": "stdout",
          "text": [
            "[(1, 'rakesh'), (2, 'rajesh'), (3, 'ramesh'), (4, 'ratnesh'), (5, 'rajnesh')]\n"
          ]
        }
      ]
    }
  ]
}